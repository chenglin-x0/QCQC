{
 "cells": [
  {
   "cell_type": "code",
   "execution_count": 1,
   "metadata": {},
   "outputs": [],
   "source": [
    "R1=[1.5,1.51,1.52,1.53,1.54,1.55,1.56,1.57,1.58,1.59,1.6,1.61,1.62,1.63,1.64,1.65,1.66,1.67,1.68,1.69,1.7 ]"
   ]
  },
  {
   "cell_type": "code",
   "execution_count": 2,
   "metadata": {},
   "outputs": [],
   "source": [
    "# import common packages\n",
    "import numpy as np\n",
    "from qiskit import Aer\n",
    "\n",
    "# lib from Qiskit Aqua\n",
    "from qiskit.aqua import QuantumInstance\n",
    "from qiskit.aqua.algorithms import VQE, NumPyEigensolver\n",
    "from qiskit.aqua.operators import Z2Symmetries\n",
    "from qiskit.aqua.components.optimizers import COBYLA\n",
    "\n",
    "\n",
    "# lib from Qiskit Aqua Chemistry\n",
    "from qiskit.chemistry import FermionicOperator\n",
    "from qiskit.chemistry.drivers import PSI4Driver\n",
    "from qiskit.chemistry.components.variational_forms import UCCSD\n",
    "from qiskit.chemistry.components.initial_states import HartreeFock\n",
    "from qiskit.chemistry import MP2Info"
   ]
  },
  {
   "cell_type": "code",
   "execution_count": 3,
   "metadata": {},
   "outputs": [],
   "source": [
    "    psi4_lih_config = '''\n",
    "molecule mol {{\n",
    "   0 1\n",
    "   Li   0.0 0.0 0.0\n",
    "   H   {} 0.0 0.0\n",
    "   symmetry c1\n",
    "}}\n",
    "\n",
    "set {{\n",
    "      basis sto-3g\n",
    "      scf_type pk\n",
    "      reference uhf\n",
    "      guess huckel\n",
    "      guess_mix true\n",
    "      \n",
    "}}\n",
    "'''"
   ]
  },
  {
   "cell_type": "code",
   "execution_count": 4,
   "metadata": {},
   "outputs": [],
   "source": [
    "map_type = 'parity'\n",
    "qubit_reduction = True"
   ]
  },
  {
   "cell_type": "code",
   "execution_count": 13,
   "metadata": {},
   "outputs": [],
   "source": [
    "HF_1=[]\n",
    "nuclear_repulsion_energy1=[]\n",
    "Ham1=[]\n",
    "energy_shifts=[]\n",
    "for i in range(len(R1)):\n",
    "    length=R1[i]\n",
    "    driver = PSI4Driver(config=psi4_lih_config.format(length)) \n",
    "    molecule=driver.run()\n",
    "    num_particles = molecule.num_alpha + molecule.num_beta\n",
    "    num_spin_orbitals = molecule.num_orbitals * 2    \n",
    "    h1 = molecule.one_body_integrals\n",
    "    h2 = molecule.two_body_integrals\n",
    "    freeze_list = [0]\n",
    "    freeze_list = [x % molecule.num_orbitals for x in freeze_list]\n",
    "    freeze_list += [x + molecule.num_orbitals for x in freeze_list]    \n",
    "    ferOp = FermionicOperator(h1=h1, h2=h2)\n",
    "    if len(freeze_list) > 0:\n",
    "        ferOp, energy_shift = ferOp.fermion_mode_freezing(freeze_list)\n",
    "        num_spin_orbitals -= len(freeze_list)\n",
    "        num_particles -= len(freeze_list)    \n",
    "    energy_shifts.append(energy_shift)\n",
    "    nuclear_repulsion_energy1.append(molecule.nuclear_repulsion_energy)\n",
    "    HF_1.append(molecule.hf_energy)\n",
    "    qubitOp = ferOp.mapping(map_type=map_type, threshold=0.00000001)\n",
    "    qubitOp = Z2Symmetries.two_qubit_reduction(qubitOp, num_particles) if qubit_reduction else qubitOp\n",
    "    qubitOp.chop(10**-10)\n",
    "    Ham1.append(qubitOp)"
   ]
  },
  {
   "cell_type": "code",
   "execution_count": 15,
   "metadata": {},
   "outputs": [],
   "source": [
    "# setup COBYLA optimizer\n",
    "max_eval = 2000\n",
    "optimizer = COBYLA(maxiter=max_eval)\n",
    "\n",
    "# setup HartreeFock state\n",
    "HF_state = HartreeFock(num_orbitals=num_spin_orbitals, num_particles=num_particles,qubit_mapping=map_type,\n",
    "                       two_qubit_reduction=True)\n",
    "\n",
    "\n",
    "# setup UCCSD variational form\n",
    "uccsd = UCCSD(num_orbitals=num_spin_orbitals, num_particles=num_particles, \n",
    "                 initial_state=HF_state, qubit_mapping=map_type,\n",
    "                 two_qubit_reduction=qubit_reduction, num_time_slices=1)\n",
    "\n",
    "# backend setting\n",
    "backend = Aer.get_backend('statevector_simulator')"
   ]
  },
  {
   "cell_type": "code",
   "execution_count": 17,
   "metadata": {
    "scrolled": false
   },
   "outputs": [
    {
     "name": "stdout",
     "output_type": "stream",
     "text": [
      "VQE: -1.1001883189906367\n",
      "VQE: -1.0980070959139256\n",
      "VQE: -1.0958177173452515\n",
      "VQE: -1.0936208745913667\n",
      "VQE: -1.0914171640719048\n",
      "VQE: -1.0892072291553652\n",
      "VQE: -1.0869916400864656\n",
      "VQE: -1.0847710216289375\n",
      "VQE: -1.0825458895006879\n",
      "VQE: -1.0803168071228542\n",
      "VQE: -1.0780842865315412\n",
      "VQE: -1.075848852329038\n",
      "VQE: -1.073610987870243\n",
      "VQE: -1.0713711782112512\n",
      "VQE: -1.0691298687968054\n",
      "VQE: -1.066887534214747\n",
      "VQE: -1.0646445940015195\n",
      "VQE: -1.062401470685552\n",
      "VQE: -1.0601585742651722\n",
      "VQE: -1.0579163050043756\n",
      "VQE: -1.0556750353243558\n"
     ]
    }
   ],
   "source": [
    "sto_uccsd=[]\n",
    "sto_diagext=[]\n",
    "for i in range(len(Ham1)):\n",
    "    input_operator=Ham1[i]\n",
    "    sto_diagext.append(float(NumPyEigensolver(input_operator).run().eigenvalues.real))\n",
    "    vqe = VQE(operator=input_operator, optimizer=optimizer, quantum_instance=backend)\n",
    "    vqe.var_form = uccsd\n",
    "    result = vqe.compute_minimum_eigenvalue()\n",
    "    sto_uccsd.append(result.eigenvalue.real)\n",
    "    print('VQE:', result.eigenvalue.real)    "
   ]
  },
  {
   "cell_type": "code",
   "execution_count": 19,
   "metadata": {},
   "outputs": [
    {
     "data": {
      "text/plain": [
       "[-1.1001883189906367,\n",
       " -1.0980070959139256,\n",
       " -1.0958177173452515,\n",
       " -1.0936208745913667,\n",
       " -1.0914171640719048,\n",
       " -1.0892072291553652,\n",
       " -1.0869916400864656,\n",
       " -1.0847710216289375,\n",
       " -1.0825458895006879,\n",
       " -1.0803168071228542,\n",
       " -1.0780842865315412,\n",
       " -1.075848852329038,\n",
       " -1.073610987870243,\n",
       " -1.0713711782112512,\n",
       " -1.0691298687968054,\n",
       " -1.066887534214747,\n",
       " -1.0646445940015195,\n",
       " -1.062401470685552,\n",
       " -1.0601585742651722,\n",
       " -1.0579163050043756,\n",
       " -1.0556750353243558]"
      ]
     },
     "execution_count": 19,
     "metadata": {},
     "output_type": "execute_result"
    }
   ],
   "source": [
    "np.array(sto_uccsd)"
   ]
  },
  {
   "cell_type": "code",
   "execution_count": 29,
   "metadata": {
    "scrolled": false
   },
   "outputs": [
    {
     "data": {
      "text/html": [
       "<div>\n",
       "<style scoped>\n",
       "    .dataframe tbody tr th:only-of-type {\n",
       "        vertical-align: middle;\n",
       "    }\n",
       "\n",
       "    .dataframe tbody tr th {\n",
       "        vertical-align: top;\n",
       "    }\n",
       "\n",
       "    .dataframe thead th {\n",
       "        text-align: right;\n",
       "    }\n",
       "</style>\n",
       "<table border=\"1\" class=\"dataframe\">\n",
       "  <thead>\n",
       "    <tr style=\"text-align: right;\">\n",
       "      <th></th>\n",
       "      <th>H-H Length</th>\n",
       "      <th>HF</th>\n",
       "      <th>Ext_DIAG</th>\n",
       "      <th>UCCSD_VQE</th>\n",
       "      <th>E_shift</th>\n",
       "      <th>VQE_result_shift</th>\n",
       "      <th>Energy</th>\n",
       "    </tr>\n",
       "  </thead>\n",
       "  <tbody>\n",
       "    <tr>\n",
       "      <th>0</th>\n",
       "      <td>1.50</td>\n",
       "      <td>-8.921712</td>\n",
       "      <td>-1.100188</td>\n",
       "      <td>-1.100188</td>\n",
       "      <td>-7.840306</td>\n",
       "      <td>-8.940494</td>\n",
       "      <td>-7.882140</td>\n",
       "    </tr>\n",
       "    <tr>\n",
       "      <th>1</th>\n",
       "      <td>1.51</td>\n",
       "      <td>-8.914727</td>\n",
       "      <td>-1.098007</td>\n",
       "      <td>-1.098007</td>\n",
       "      <td>-7.835631</td>\n",
       "      <td>-8.933638</td>\n",
       "      <td>-7.882293</td>\n",
       "    </tr>\n",
       "    <tr>\n",
       "      <th>2</th>\n",
       "      <td>1.52</td>\n",
       "      <td>-8.907793</td>\n",
       "      <td>-1.095818</td>\n",
       "      <td>-1.095818</td>\n",
       "      <td>-7.831019</td>\n",
       "      <td>-8.926837</td>\n",
       "      <td>-7.882408</td>\n",
       "    </tr>\n",
       "    <tr>\n",
       "      <th>3</th>\n",
       "      <td>1.53</td>\n",
       "      <td>-8.900909</td>\n",
       "      <td>-1.093621</td>\n",
       "      <td>-1.093621</td>\n",
       "      <td>-7.826468</td>\n",
       "      <td>-8.920088</td>\n",
       "      <td>-7.882486</td>\n",
       "    </tr>\n",
       "    <tr>\n",
       "      <th>4</th>\n",
       "      <td>1.54</td>\n",
       "      <td>-8.894075</td>\n",
       "      <td>-1.091417</td>\n",
       "      <td>-1.091417</td>\n",
       "      <td>-7.821976</td>\n",
       "      <td>-8.913393</td>\n",
       "      <td>-7.882529</td>\n",
       "    </tr>\n",
       "    <tr>\n",
       "      <th>5</th>\n",
       "      <td>1.55</td>\n",
       "      <td>-8.887289</td>\n",
       "      <td>-1.089207</td>\n",
       "      <td>-1.089207</td>\n",
       "      <td>-7.817543</td>\n",
       "      <td>-8.906751</td>\n",
       "      <td>-7.882537</td>\n",
       "    </tr>\n",
       "    <tr>\n",
       "      <th>6</th>\n",
       "      <td>1.56</td>\n",
       "      <td>-8.880552</td>\n",
       "      <td>-1.086992</td>\n",
       "      <td>-1.086992</td>\n",
       "      <td>-7.813168</td>\n",
       "      <td>-8.900160</td>\n",
       "      <td>-7.882511</td>\n",
       "    </tr>\n",
       "    <tr>\n",
       "      <th>7</th>\n",
       "      <td>1.57</td>\n",
       "      <td>-8.873862</td>\n",
       "      <td>-1.084771</td>\n",
       "      <td>-1.084771</td>\n",
       "      <td>-7.808849</td>\n",
       "      <td>-8.893620</td>\n",
       "      <td>-7.882454</td>\n",
       "    </tr>\n",
       "    <tr>\n",
       "      <th>8</th>\n",
       "      <td>1.58</td>\n",
       "      <td>-8.867219</td>\n",
       "      <td>-1.082546</td>\n",
       "      <td>-1.082546</td>\n",
       "      <td>-7.804585</td>\n",
       "      <td>-8.887131</td>\n",
       "      <td>-7.882365</td>\n",
       "    </tr>\n",
       "    <tr>\n",
       "      <th>9</th>\n",
       "      <td>1.59</td>\n",
       "      <td>-8.860622</td>\n",
       "      <td>-1.080317</td>\n",
       "      <td>-1.080317</td>\n",
       "      <td>-7.800376</td>\n",
       "      <td>-8.880693</td>\n",
       "      <td>-7.882245</td>\n",
       "    </tr>\n",
       "    <tr>\n",
       "      <th>10</th>\n",
       "      <td>1.60</td>\n",
       "      <td>-8.854072</td>\n",
       "      <td>-1.078084</td>\n",
       "      <td>-1.078084</td>\n",
       "      <td>-7.796220</td>\n",
       "      <td>-8.874304</td>\n",
       "      <td>-7.882097</td>\n",
       "    </tr>\n",
       "    <tr>\n",
       "      <th>11</th>\n",
       "      <td>1.61</td>\n",
       "      <td>-8.847567</td>\n",
       "      <td>-1.075849</td>\n",
       "      <td>-1.075849</td>\n",
       "      <td>-7.792115</td>\n",
       "      <td>-8.867964</td>\n",
       "      <td>-7.881920</td>\n",
       "    </tr>\n",
       "    <tr>\n",
       "      <th>12</th>\n",
       "      <td>1.62</td>\n",
       "      <td>-8.841107</td>\n",
       "      <td>-1.073611</td>\n",
       "      <td>-1.073611</td>\n",
       "      <td>-7.788062</td>\n",
       "      <td>-8.861673</td>\n",
       "      <td>-7.881715</td>\n",
       "    </tr>\n",
       "    <tr>\n",
       "      <th>13</th>\n",
       "      <td>1.63</td>\n",
       "      <td>-8.834692</td>\n",
       "      <td>-1.071371</td>\n",
       "      <td>-1.071371</td>\n",
       "      <td>-7.784059</td>\n",
       "      <td>-8.855430</td>\n",
       "      <td>-7.881484</td>\n",
       "    </tr>\n",
       "    <tr>\n",
       "      <th>14</th>\n",
       "      <td>1.64</td>\n",
       "      <td>-8.828320</td>\n",
       "      <td>-1.069130</td>\n",
       "      <td>-1.069130</td>\n",
       "      <td>-7.780105</td>\n",
       "      <td>-8.849235</td>\n",
       "      <td>-7.881228</td>\n",
       "    </tr>\n",
       "    <tr>\n",
       "      <th>15</th>\n",
       "      <td>1.65</td>\n",
       "      <td>-8.821992</td>\n",
       "      <td>-1.066888</td>\n",
       "      <td>-1.066888</td>\n",
       "      <td>-7.776200</td>\n",
       "      <td>-8.843087</td>\n",
       "      <td>-7.880947</td>\n",
       "    </tr>\n",
       "    <tr>\n",
       "      <th>16</th>\n",
       "      <td>1.66</td>\n",
       "      <td>-8.815707</td>\n",
       "      <td>-1.064645</td>\n",
       "      <td>-1.064645</td>\n",
       "      <td>-7.772341</td>\n",
       "      <td>-8.836986</td>\n",
       "      <td>-7.880642</td>\n",
       "    </tr>\n",
       "    <tr>\n",
       "      <th>17</th>\n",
       "      <td>1.67</td>\n",
       "      <td>-8.809464</td>\n",
       "      <td>-1.062401</td>\n",
       "      <td>-1.062401</td>\n",
       "      <td>-7.768530</td>\n",
       "      <td>-8.830931</td>\n",
       "      <td>-7.880313</td>\n",
       "    </tr>\n",
       "    <tr>\n",
       "      <th>18</th>\n",
       "      <td>1.68</td>\n",
       "      <td>-8.803264</td>\n",
       "      <td>-1.060159</td>\n",
       "      <td>-1.060159</td>\n",
       "      <td>-7.764764</td>\n",
       "      <td>-8.824922</td>\n",
       "      <td>-7.879963</td>\n",
       "    </tr>\n",
       "    <tr>\n",
       "      <th>19</th>\n",
       "      <td>1.69</td>\n",
       "      <td>-8.797105</td>\n",
       "      <td>-1.057916</td>\n",
       "      <td>-1.057916</td>\n",
       "      <td>-7.761042</td>\n",
       "      <td>-8.818959</td>\n",
       "      <td>-7.879591</td>\n",
       "    </tr>\n",
       "    <tr>\n",
       "      <th>20</th>\n",
       "      <td>1.70</td>\n",
       "      <td>-8.790987</td>\n",
       "      <td>-1.055675</td>\n",
       "      <td>-1.055675</td>\n",
       "      <td>-7.757365</td>\n",
       "      <td>-8.813040</td>\n",
       "      <td>-7.879198</td>\n",
       "    </tr>\n",
       "  </tbody>\n",
       "</table>\n",
       "</div>"
      ],
      "text/plain": [
       "    H-H Length        HF  Ext_DIAG  UCCSD_VQE   E_shift  VQE_result_shift  \\\n",
       "0         1.50 -8.921712 -1.100188  -1.100188 -7.840306         -8.940494   \n",
       "1         1.51 -8.914727 -1.098007  -1.098007 -7.835631         -8.933638   \n",
       "2         1.52 -8.907793 -1.095818  -1.095818 -7.831019         -8.926837   \n",
       "3         1.53 -8.900909 -1.093621  -1.093621 -7.826468         -8.920088   \n",
       "4         1.54 -8.894075 -1.091417  -1.091417 -7.821976         -8.913393   \n",
       "5         1.55 -8.887289 -1.089207  -1.089207 -7.817543         -8.906751   \n",
       "6         1.56 -8.880552 -1.086992  -1.086992 -7.813168         -8.900160   \n",
       "7         1.57 -8.873862 -1.084771  -1.084771 -7.808849         -8.893620   \n",
       "8         1.58 -8.867219 -1.082546  -1.082546 -7.804585         -8.887131   \n",
       "9         1.59 -8.860622 -1.080317  -1.080317 -7.800376         -8.880693   \n",
       "10        1.60 -8.854072 -1.078084  -1.078084 -7.796220         -8.874304   \n",
       "11        1.61 -8.847567 -1.075849  -1.075849 -7.792115         -8.867964   \n",
       "12        1.62 -8.841107 -1.073611  -1.073611 -7.788062         -8.861673   \n",
       "13        1.63 -8.834692 -1.071371  -1.071371 -7.784059         -8.855430   \n",
       "14        1.64 -8.828320 -1.069130  -1.069130 -7.780105         -8.849235   \n",
       "15        1.65 -8.821992 -1.066888  -1.066888 -7.776200         -8.843087   \n",
       "16        1.66 -8.815707 -1.064645  -1.064645 -7.772341         -8.836986   \n",
       "17        1.67 -8.809464 -1.062401  -1.062401 -7.768530         -8.830931   \n",
       "18        1.68 -8.803264 -1.060159  -1.060159 -7.764764         -8.824922   \n",
       "19        1.69 -8.797105 -1.057916  -1.057916 -7.761042         -8.818959   \n",
       "20        1.70 -8.790987 -1.055675  -1.055675 -7.757365         -8.813040   \n",
       "\n",
       "      Energy  \n",
       "0  -7.882140  \n",
       "1  -7.882293  \n",
       "2  -7.882408  \n",
       "3  -7.882486  \n",
       "4  -7.882529  \n",
       "5  -7.882537  \n",
       "6  -7.882511  \n",
       "7  -7.882454  \n",
       "8  -7.882365  \n",
       "9  -7.882245  \n",
       "10 -7.882097  \n",
       "11 -7.881920  \n",
       "12 -7.881715  \n",
       "13 -7.881484  \n",
       "14 -7.881228  \n",
       "15 -7.880947  \n",
       "16 -7.880642  \n",
       "17 -7.880313  \n",
       "18 -7.879963  \n",
       "19 -7.879591  \n",
       "20 -7.879198  "
      ]
     },
     "execution_count": 29,
     "metadata": {},
     "output_type": "execute_result"
    }
   ],
   "source": [
    "import pandas as pd\n",
    "HF=np.array(HF_1)-np.array(nuclear_repulsion_energy1)\n",
    "\n",
    "dic = {\n",
    "    \"H-H Length\": R1, \n",
    "    \"HF\": HF,\n",
    "    \"Ext_DIAG\": sto_diagext,\n",
    "    \"UCCSD_VQE\": sto_uccsd,\n",
    "    \"E_shift\": energy_shifts,\n",
    "    \"VQE_result_shift\": np.array(sto_uccsd)+np.array(energy_shifts),\n",
    "    \"Energy\":np.array(sto_uccsd)+np.array(energy_shifts)+np.array(nuclear_repulsion_energy1)\n",
    "}\n",
    "df = pd.DataFrame(dic)\n",
    "df"
   ]
  },
  {
   "cell_type": "markdown",
   "metadata": {},
   "source": [
    "### Select 9 pts and fitting to get $v$ : vibrational frequency"
   ]
  },
  {
   "cell_type": "code",
   "execution_count": 30,
   "metadata": {},
   "outputs": [],
   "source": [
    "min_index=df[df.Energy==min(df['Energy'])].index.tolist()\n",
    "min_index=min_index[0]"
   ]
  },
  {
   "cell_type": "code",
   "execution_count": 31,
   "metadata": {},
   "outputs": [
    {
     "name": "stdout",
     "output_type": "stream",
     "text": [
      " bond length :  1.55\n"
     ]
    }
   ],
   "source": [
    "print(\" bond length : \",df['H-H Length'][min_index])"
   ]
  },
  {
   "cell_type": "code",
   "execution_count": 32,
   "metadata": {},
   "outputs": [
    {
     "data": {
      "text/plain": [
       "[2.853486242786,\n",
       " 2.872383502672,\n",
       " 2.891280762558,\n",
       " 2.910178022444,\n",
       " 2.92907528233,\n",
       " 2.947972542216,\n",
       " 2.966869802102,\n",
       " 2.985767061988,\n",
       " 3.004664321874]"
      ]
     },
     "execution_count": 32,
     "metadata": {},
     "output_type": "execute_result"
    }
   ],
   "source": [
    "fitting_E=df['Energy'][min_index-4:min_index+5].tolist()\n",
    "fitting_length=df['H-H Length'][min_index-4:min_index+5]*1.8897259886\n",
    "fitting_length.to_list()"
   ]
  },
  {
   "cell_type": "code",
   "execution_count": 33,
   "metadata": {},
   "outputs": [],
   "source": [
    "import matplotlib.pyplot as plt\n",
    "import numpy as np\n",
    "from scipy.optimize import curve_fit"
   ]
  },
  {
   "cell_type": "code",
   "execution_count": 34,
   "metadata": {},
   "outputs": [],
   "source": [
    "def f_1(x, A, B,C):\n",
    "    return A * x**2 + B*x +C"
   ]
  },
  {
   "cell_type": "code",
   "execution_count": 35,
   "metadata": {},
   "outputs": [],
   "source": [
    "z1 = np.polyfit(fitting_length,fitting_E,2) \n",
    "p_fit, prov = curve_fit(f_1, fitting_length, fitting_E)"
   ]
  },
  {
   "cell_type": "code",
   "execution_count": 36,
   "metadata": {},
   "outputs": [],
   "source": [
    "curvature=z1[0]"
   ]
  },
  {
   "cell_type": "code",
   "execution_count": 38,
   "metadata": {},
   "outputs": [],
   "source": [
    "H_mass=1.00782503223\n",
    "Li_mass=7.0160034366\n",
    "reduce_mass=1/(1/H_mass+1/Li_mass)"
   ]
  },
  {
   "cell_type": "code",
   "execution_count": 39,
   "metadata": {},
   "outputs": [],
   "source": [
    "Hartree=(curvature*2/reduce_mass/1840)**0.5"
   ]
  },
  {
   "cell_type": "code",
   "execution_count": 40,
   "metadata": {},
   "outputs": [
    {
     "data": {
      "text/plain": [
       "1668.0504521762523"
      ]
     },
     "execution_count": 40,
     "metadata": {},
     "output_type": "execute_result"
    }
   ],
   "source": [
    "v_f=Hartree*219474.63\n",
    "v_f"
   ]
  }
 ],
 "metadata": {
  "kernelspec": {
   "display_name": "Python 3",
   "language": "python",
   "name": "python3"
  },
  "language_info": {
   "codemirror_mode": {
    "name": "ipython",
    "version": 3
   },
   "file_extension": ".py",
   "mimetype": "text/x-python",
   "name": "python",
   "nbconvert_exporter": "python",
   "pygments_lexer": "ipython3",
   "version": "3.7.9"
  }
 },
 "nbformat": 4,
 "nbformat_minor": 4
}
