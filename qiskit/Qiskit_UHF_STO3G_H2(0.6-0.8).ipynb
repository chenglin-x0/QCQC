{
 "cells": [
  {
   "cell_type": "code",
   "execution_count": 1,
   "metadata": {},
   "outputs": [],
   "source": [
    "R1=[0.3,0.4,0.5,0.6,0.7,0.8,0.9,1.0,1.2,1.4,1.6,1.8,2.0,2.2,2.4,2.6,2.8,3.0,4.0,5.0]\n",
    "R2=[0.6,0.61,0.62,0.63,0.64,0.65,0.66,0.67,0.68,0.69,0.7,0.71,0.72,0.73,0.74,0.75,0.76,0.77,0.78,0.79,0.8]"
   ]
  },
  {
   "cell_type": "code",
   "execution_count": 2,
   "metadata": {},
   "outputs": [],
   "source": [
    "# import common packages\n",
    "import numpy as np\n",
    "from qiskit import Aer\n",
    "\n",
    "# lib from Qiskit Aqua\n",
    "from qiskit.aqua import QuantumInstance\n",
    "from qiskit.aqua.algorithms import VQE, NumPyEigensolver\n",
    "from qiskit.aqua.operators import Z2Symmetries\n",
    "from qiskit.aqua.components.optimizers import COBYLA\n",
    "\n",
    "\n",
    "# lib from Qiskit Aqua Chemistry\n",
    "from qiskit.chemistry import FermionicOperator\n",
    "from qiskit.chemistry.drivers import PSI4Driver\n",
    "from qiskit.chemistry.components.variational_forms import UCCSD\n",
    "from qiskit.chemistry.components.initial_states import HartreeFock\n",
    "from qiskit.chemistry import MP2Info"
   ]
  },
  {
   "cell_type": "code",
   "execution_count": 3,
   "metadata": {},
   "outputs": [],
   "source": [
    "    psi4_h2_config = '''\n",
    "molecule mol {{\n",
    "   0 1\n",
    "   H   0.0 0.0 0.0\n",
    "   H   {} 0.0 0.0\n",
    "   symmetry c1\n",
    "}}\n",
    "\n",
    "set {{\n",
    "      basis sto-3g\n",
    "      scf_type pk\n",
    "      reference uhf\n",
    "      guess huckel\n",
    "      guess_mix true\n",
    "      \n",
    "}}\n",
    "'''"
   ]
  },
  {
   "cell_type": "code",
   "execution_count": 78,
   "metadata": {},
   "outputs": [],
   "source": [
    "molecule=driver.run()"
   ]
  },
  {
   "cell_type": "code",
   "execution_count": 4,
   "metadata": {},
   "outputs": [],
   "source": [
    "map_type = 'jordan_wigner'\n",
    "qubit_reduction = False"
   ]
  },
  {
   "cell_type": "code",
   "execution_count": 5,
   "metadata": {},
   "outputs": [],
   "source": [
    "HF_1=[]\n",
    "nuclear_repulsion_energy1=[]\n",
    "Ham1=[]\n",
    "for i in range(len(R2)):\n",
    "    length=R2[i]\n",
    "    driver = PSI4Driver(config=psi4_h2_config.format(length)) \n",
    "    molecule=driver.run()\n",
    "    h1 = molecule.one_body_integrals\n",
    "    h2 = molecule.two_body_integrals\n",
    "    nuclear_repulsion_energy1.append(molecule.nuclear_repulsion_energy)\n",
    "    HF_1.append(molecule.hf_energy)\n",
    "    ferOp = FermionicOperator(h1=h1, h2=h2)\n",
    "    qubitOp = ferOp.mapping(map_type=map_type, threshold=0.00000001)\n",
    "    qubitOp.chop(10**-10)\n",
    "    Ham1.append(qubitOp)"
   ]
  },
  {
   "cell_type": "code",
   "execution_count": 6,
   "metadata": {},
   "outputs": [
    {
     "name": "stdout",
     "output_type": "stream",
     "text": [
      "# of electrons: 2\n",
      "# of spin orbitals: 4\n"
     ]
    }
   ],
   "source": [
    "num_particles = molecule.num_alpha + molecule.num_beta\n",
    "num_spin_orbitals = molecule.num_orbitals * 2\n",
    "print(\"# of electrons: {}\".format(num_particles))\n",
    "print(\"# of spin orbitals: {}\".format(num_spin_orbitals))"
   ]
  },
  {
   "cell_type": "code",
   "execution_count": 7,
   "metadata": {},
   "outputs": [],
   "source": [
    "# setup COBYLA optimizer\n",
    "max_eval = 2000\n",
    "optimizer = COBYLA(maxiter=max_eval)\n",
    "\n",
    "# setup HartreeFock state\n",
    "HF_state = HartreeFock(num_orbitals=num_spin_orbitals, num_particles=num_particles,qubit_mapping=map_type,two_qubit_reduction=False)\n",
    "\n",
    "\n",
    "# setup UCCSD variational form\n",
    "uccsd = UCCSD(num_orbitals=num_spin_orbitals, num_particles=num_particles, \n",
    "                 initial_state=HF_state, qubit_mapping=map_type,\n",
    "                 two_qubit_reduction=qubit_reduction, num_time_slices=1)\n",
    "\n",
    "# backend setting\n",
    "backend = Aer.get_backend('statevector_simulator')"
   ]
  },
  {
   "cell_type": "code",
   "execution_count": 8,
   "metadata": {
    "scrolled": false
   },
   "outputs": [
    {
     "name": "stdout",
     "output_type": "stream",
     "text": [
      "VQE: -1.9982479967770612\n",
      "VQE: -1.9872171464742334\n",
      "VQE: -1.9762787658516174\n",
      "VQE: -1.9654333969247268\n",
      "VQE: -1.9546815155728465\n",
      "VQE: -1.944023549850431\n",
      "VQE: -1.9334599856296277\n",
      "VQE: -1.9229911873011027\n",
      "VQE: -1.9126175282580853\n",
      "VQE: -1.9023393334838286\n",
      "VQE: -1.8921568759770844\n",
      "VQE: -1.8820704082346973\n",
      "VQE: -1.8720800500232317\n",
      "VQE: -1.8621859535807253\n",
      "VQE: -1.8523881613713364\n",
      "VQE: -1.842686661119365\n",
      "VQE: -1.8330814065820813\n",
      "VQE: -1.8235722514964046\n",
      "VQE: -1.8141590112262274\n",
      "VQE: -1.8048414129728672\n",
      "VQE: -1.7956191703728566\n"
     ]
    }
   ],
   "source": [
    "sto_uccsd=[]\n",
    "sto_diagext=[]\n",
    "for i in range(len(Ham1)):\n",
    "    input_operator=Ham1[i]\n",
    "    sto_diagext.append(float(NumPyEigensolver(input_operator).run().eigenvalues.real))\n",
    "    vqe = VQE(operator=input_operator, optimizer=optimizer, quantum_instance=backend)\n",
    "    vqe.var_form = uccsd\n",
    "    result = vqe.compute_minimum_eigenvalue()\n",
    "    sto_uccsd.append(result.eigenvalue.real)\n",
    "    print('VQE:', result.eigenvalue.real)    "
   ]
  },
  {
   "cell_type": "code",
   "execution_count": 20,
   "metadata": {
    "scrolled": false
   },
   "outputs": [
    {
     "data": {
      "text/html": [
       "<div>\n",
       "<style scoped>\n",
       "    .dataframe tbody tr th:only-of-type {\n",
       "        vertical-align: middle;\n",
       "    }\n",
       "\n",
       "    .dataframe tbody tr th {\n",
       "        vertical-align: top;\n",
       "    }\n",
       "\n",
       "    .dataframe thead th {\n",
       "        text-align: right;\n",
       "    }\n",
       "</style>\n",
       "<table border=\"1\" class=\"dataframe\">\n",
       "  <thead>\n",
       "    <tr style=\"text-align: right;\">\n",
       "      <th></th>\n",
       "      <th>H-H Length</th>\n",
       "      <th>HF</th>\n",
       "      <th>Ext_DIAG</th>\n",
       "      <th>UCCSD_VQE</th>\n",
       "      <th>Repulsion</th>\n",
       "      <th>Energy</th>\n",
       "    </tr>\n",
       "  </thead>\n",
       "  <tbody>\n",
       "    <tr>\n",
       "      <th>0</th>\n",
       "      <td>0.60</td>\n",
       "      <td>-1.983090</td>\n",
       "      <td>-1.998248</td>\n",
       "      <td>-1.998248</td>\n",
       "      <td>0.881962</td>\n",
       "      <td>-1.116286</td>\n",
       "    </tr>\n",
       "    <tr>\n",
       "      <th>1</th>\n",
       "      <td>0.61</td>\n",
       "      <td>-1.971723</td>\n",
       "      <td>-1.987217</td>\n",
       "      <td>-1.987217</td>\n",
       "      <td>0.867504</td>\n",
       "      <td>-1.119714</td>\n",
       "    </tr>\n",
       "    <tr>\n",
       "      <th>2</th>\n",
       "      <td>0.62</td>\n",
       "      <td>-1.960442</td>\n",
       "      <td>-1.976279</td>\n",
       "      <td>-1.976279</td>\n",
       "      <td>0.853512</td>\n",
       "      <td>-1.122767</td>\n",
       "    </tr>\n",
       "    <tr>\n",
       "      <th>3</th>\n",
       "      <td>0.63</td>\n",
       "      <td>-1.949247</td>\n",
       "      <td>-1.965433</td>\n",
       "      <td>-1.965433</td>\n",
       "      <td>0.839964</td>\n",
       "      <td>-1.125470</td>\n",
       "    </tr>\n",
       "    <tr>\n",
       "      <th>4</th>\n",
       "      <td>0.64</td>\n",
       "      <td>-1.938138</td>\n",
       "      <td>-1.954682</td>\n",
       "      <td>-1.954682</td>\n",
       "      <td>0.826839</td>\n",
       "      <td>-1.127842</td>\n",
       "    </tr>\n",
       "    <tr>\n",
       "      <th>5</th>\n",
       "      <td>0.65</td>\n",
       "      <td>-1.927115</td>\n",
       "      <td>-1.944024</td>\n",
       "      <td>-1.944024</td>\n",
       "      <td>0.814119</td>\n",
       "      <td>-1.129905</td>\n",
       "    </tr>\n",
       "    <tr>\n",
       "      <th>6</th>\n",
       "      <td>0.66</td>\n",
       "      <td>-1.916180</td>\n",
       "      <td>-1.933460</td>\n",
       "      <td>-1.933460</td>\n",
       "      <td>0.801784</td>\n",
       "      <td>-1.131676</td>\n",
       "    </tr>\n",
       "    <tr>\n",
       "      <th>7</th>\n",
       "      <td>0.67</td>\n",
       "      <td>-1.905332</td>\n",
       "      <td>-1.922991</td>\n",
       "      <td>-1.922991</td>\n",
       "      <td>0.789817</td>\n",
       "      <td>-1.133174</td>\n",
       "    </tr>\n",
       "    <tr>\n",
       "      <th>8</th>\n",
       "      <td>0.68</td>\n",
       "      <td>-1.894572</td>\n",
       "      <td>-1.912618</td>\n",
       "      <td>-1.912618</td>\n",
       "      <td>0.778202</td>\n",
       "      <td>-1.134416</td>\n",
       "    </tr>\n",
       "    <tr>\n",
       "      <th>9</th>\n",
       "      <td>0.69</td>\n",
       "      <td>-1.883900</td>\n",
       "      <td>-1.902339</td>\n",
       "      <td>-1.902339</td>\n",
       "      <td>0.766923</td>\n",
       "      <td>-1.135416</td>\n",
       "    </tr>\n",
       "    <tr>\n",
       "      <th>10</th>\n",
       "      <td>0.70</td>\n",
       "      <td>-1.873316</td>\n",
       "      <td>-1.892157</td>\n",
       "      <td>-1.892157</td>\n",
       "      <td>0.755967</td>\n",
       "      <td>-1.136189</td>\n",
       "    </tr>\n",
       "    <tr>\n",
       "      <th>11</th>\n",
       "      <td>0.71</td>\n",
       "      <td>-1.862821</td>\n",
       "      <td>-1.882070</td>\n",
       "      <td>-1.882070</td>\n",
       "      <td>0.745320</td>\n",
       "      <td>-1.136750</td>\n",
       "    </tr>\n",
       "    <tr>\n",
       "      <th>12</th>\n",
       "      <td>0.72</td>\n",
       "      <td>-1.852413</td>\n",
       "      <td>-1.872080</td>\n",
       "      <td>-1.872080</td>\n",
       "      <td>0.734968</td>\n",
       "      <td>-1.137112</td>\n",
       "    </tr>\n",
       "    <tr>\n",
       "      <th>13</th>\n",
       "      <td>0.73</td>\n",
       "      <td>-1.842094</td>\n",
       "      <td>-1.862186</td>\n",
       "      <td>-1.862186</td>\n",
       "      <td>0.724900</td>\n",
       "      <td>-1.137286</td>\n",
       "    </tr>\n",
       "    <tr>\n",
       "      <th>14</th>\n",
       "      <td>0.74</td>\n",
       "      <td>-1.831864</td>\n",
       "      <td>-1.852388</td>\n",
       "      <td>-1.852388</td>\n",
       "      <td>0.715104</td>\n",
       "      <td>-1.137284</td>\n",
       "    </tr>\n",
       "    <tr>\n",
       "      <th>15</th>\n",
       "      <td>0.75</td>\n",
       "      <td>-1.821721</td>\n",
       "      <td>-1.842687</td>\n",
       "      <td>-1.842687</td>\n",
       "      <td>0.705570</td>\n",
       "      <td>-1.137117</td>\n",
       "    </tr>\n",
       "    <tr>\n",
       "      <th>16</th>\n",
       "      <td>0.76</td>\n",
       "      <td>-1.811666</td>\n",
       "      <td>-1.833081</td>\n",
       "      <td>-1.833081</td>\n",
       "      <td>0.696286</td>\n",
       "      <td>-1.136796</td>\n",
       "    </tr>\n",
       "    <tr>\n",
       "      <th>17</th>\n",
       "      <td>0.77</td>\n",
       "      <td>-1.801700</td>\n",
       "      <td>-1.823572</td>\n",
       "      <td>-1.823572</td>\n",
       "      <td>0.687243</td>\n",
       "      <td>-1.136329</td>\n",
       "    </tr>\n",
       "    <tr>\n",
       "      <th>18</th>\n",
       "      <td>0.78</td>\n",
       "      <td>-1.791820</td>\n",
       "      <td>-1.814159</td>\n",
       "      <td>-1.814159</td>\n",
       "      <td>0.678432</td>\n",
       "      <td>-1.135727</td>\n",
       "    </tr>\n",
       "    <tr>\n",
       "      <th>19</th>\n",
       "      <td>0.79</td>\n",
       "      <td>-1.782028</td>\n",
       "      <td>-1.804841</td>\n",
       "      <td>-1.804841</td>\n",
       "      <td>0.669845</td>\n",
       "      <td>-1.134997</td>\n",
       "    </tr>\n",
       "    <tr>\n",
       "      <th>20</th>\n",
       "      <td>0.80</td>\n",
       "      <td>-1.772322</td>\n",
       "      <td>-1.795619</td>\n",
       "      <td>-1.795619</td>\n",
       "      <td>0.661472</td>\n",
       "      <td>-1.134148</td>\n",
       "    </tr>\n",
       "  </tbody>\n",
       "</table>\n",
       "</div>"
      ],
      "text/plain": [
       "    H-H Length        HF  Ext_DIAG  UCCSD_VQE  Repulsion    Energy\n",
       "0         0.60 -1.983090 -1.998248  -1.998248   0.881962 -1.116286\n",
       "1         0.61 -1.971723 -1.987217  -1.987217   0.867504 -1.119714\n",
       "2         0.62 -1.960442 -1.976279  -1.976279   0.853512 -1.122767\n",
       "3         0.63 -1.949247 -1.965433  -1.965433   0.839964 -1.125470\n",
       "4         0.64 -1.938138 -1.954682  -1.954682   0.826839 -1.127842\n",
       "5         0.65 -1.927115 -1.944024  -1.944024   0.814119 -1.129905\n",
       "6         0.66 -1.916180 -1.933460  -1.933460   0.801784 -1.131676\n",
       "7         0.67 -1.905332 -1.922991  -1.922991   0.789817 -1.133174\n",
       "8         0.68 -1.894572 -1.912618  -1.912618   0.778202 -1.134416\n",
       "9         0.69 -1.883900 -1.902339  -1.902339   0.766923 -1.135416\n",
       "10        0.70 -1.873316 -1.892157  -1.892157   0.755967 -1.136189\n",
       "11        0.71 -1.862821 -1.882070  -1.882070   0.745320 -1.136750\n",
       "12        0.72 -1.852413 -1.872080  -1.872080   0.734968 -1.137112\n",
       "13        0.73 -1.842094 -1.862186  -1.862186   0.724900 -1.137286\n",
       "14        0.74 -1.831864 -1.852388  -1.852388   0.715104 -1.137284\n",
       "15        0.75 -1.821721 -1.842687  -1.842687   0.705570 -1.137117\n",
       "16        0.76 -1.811666 -1.833081  -1.833081   0.696286 -1.136796\n",
       "17        0.77 -1.801700 -1.823572  -1.823572   0.687243 -1.136329\n",
       "18        0.78 -1.791820 -1.814159  -1.814159   0.678432 -1.135727\n",
       "19        0.79 -1.782028 -1.804841  -1.804841   0.669845 -1.134997\n",
       "20        0.80 -1.772322 -1.795619  -1.795619   0.661472 -1.134148"
      ]
     },
     "execution_count": 20,
     "metadata": {},
     "output_type": "execute_result"
    }
   ],
   "source": [
    "import pandas as pd\n",
    "HF=np.array(HF_1)-np.array(nuclear_repulsion_energy1)\n",
    "\n",
    "dic = {\n",
    "    \"H-H Length\": R2, \n",
    "    \"HF\": HF,\n",
    "    \"Ext_DIAG\": sto_diagext,\n",
    "    \"UCCSD_VQE\": sto_uccsd,\n",
    "    \"Repulsion\":nuclear_repulsion_energy1,\n",
    "    \"Energy\": np.array(sto_uccsd)+np.array(nuclear_repulsion_energy1) }\n",
    "df = pd.DataFrame(dic)\n",
    "df"
   ]
  },
  {
   "cell_type": "markdown",
   "metadata": {},
   "source": [
    "### Select 9 pts and fitting to get $v$ : vibrational frequency"
   ]
  },
  {
   "cell_type": "code",
   "execution_count": 35,
   "metadata": {},
   "outputs": [],
   "source": [
    "min_index=df[df.Energy==min(df['Energy'])].index.tolist()\n",
    "min_index=min_index[0]"
   ]
  },
  {
   "cell_type": "code",
   "execution_count": 101,
   "metadata": {},
   "outputs": [
    {
     "name": "stdout",
     "output_type": "stream",
     "text": [
      " bond length :  0.73\n"
     ]
    }
   ],
   "source": [
    "print(\" bond length : \",df['H-H Length'][min_index])"
   ]
  },
  {
   "cell_type": "code",
   "execution_count": 66,
   "metadata": {},
   "outputs": [],
   "source": [
    "fitting_E=df['Energy'][min_index-4:min_index+5].tolist()\n",
    "fitting_length=df['H-H Length'][min_index-4:min_index+5]*1.8897259886\n",
    "fitting_length.to_list()"
   ]
  },
  {
   "cell_type": "code",
   "execution_count": 70,
   "metadata": {},
   "outputs": [],
   "source": [
    "import matplotlib.pyplot as plt\n",
    "import numpy as np\n",
    "from scipy.optimize import curve_fit"
   ]
  },
  {
   "cell_type": "code",
   "execution_count": 74,
   "metadata": {},
   "outputs": [],
   "source": [
    "def f_1(x, A, B,C):\n",
    "    return A * x**2 + B*x +C"
   ]
  },
  {
   "cell_type": "code",
   "execution_count": 76,
   "metadata": {},
   "outputs": [],
   "source": [
    "z1 = np.polyfit(fitting_length,fitting_E,2) \n",
    "p_fit, prov = curve_fit(f_1, fitting_length, fitting_E)"
   ]
  },
  {
   "cell_type": "code",
   "execution_count": 86,
   "metadata": {},
   "outputs": [],
   "source": [
    "curvature=z1[0]"
   ]
  },
  {
   "cell_type": "code",
   "execution_count": 96,
   "metadata": {},
   "outputs": [],
   "source": [
    "H_mass=1.00782503223\n",
    "Li_mass=7.0160034366\n",
    "reduce_mass=1/(1/H_mass+1/H_mass)"
   ]
  },
  {
   "cell_type": "code",
   "execution_count": 97,
   "metadata": {},
   "outputs": [
    {
     "data": {
      "text/plain": [
       "0.503912516115"
      ]
     },
     "execution_count": 97,
     "metadata": {},
     "output_type": "execute_result"
    }
   ],
   "source": [
    "reduce_mass"
   ]
  },
  {
   "cell_type": "code",
   "execution_count": 98,
   "metadata": {},
   "outputs": [],
   "source": [
    "Hartree=(curvature*2/reduce_mass/1840)**0.5"
   ]
  },
  {
   "cell_type": "code",
   "execution_count": 99,
   "metadata": {},
   "outputs": [
    {
     "data": {
      "text/plain": [
       "5069.711193696306"
      ]
     },
     "execution_count": 99,
     "metadata": {},
     "output_type": "execute_result"
    }
   ],
   "source": [
    "v_f=Hartree*219474.63\n",
    "v_f"
   ]
  }
 ],
 "metadata": {
  "kernelspec": {
   "display_name": "Python 3",
   "language": "python",
   "name": "python3"
  },
  "language_info": {
   "codemirror_mode": {
    "name": "ipython",
    "version": 3
   },
   "file_extension": ".py",
   "mimetype": "text/x-python",
   "name": "python",
   "nbconvert_exporter": "python",
   "pygments_lexer": "ipython3",
   "version": "3.7.9"
  }
 },
 "nbformat": 4,
 "nbformat_minor": 4
}
